{
  "nbformat": 4,
  "nbformat_minor": 0,
  "metadata": {
    "colab": {
      "provenance": [],
      "include_colab_link": true
    },
    "kernelspec": {
      "name": "python3",
      "display_name": "Python 3"
    },
    "language_info": {
      "name": "python"
    }
  },
  "cells": [
    {
      "cell_type": "markdown",
      "metadata": {
        "id": "view-in-github",
        "colab_type": "text"
      },
      "source": [
        "<a href=\"https://colab.research.google.com/github/phzin231/bagui-d-bar/blob/main/Untitled40.ipynb\" target=\"_parent\"><img src=\"https://colab.research.google.com/assets/colab-badge.svg\" alt=\"Open In Colab\"/></a>"
      ]
    },
    {
      "cell_type": "code",
      "execution_count": null,
      "metadata": {
        "id": "gjxFQ8iT6kbE"
      },
      "outputs": [],
      "source": [
        "# cadastro do remedio\n",
        "\n",
        "def cadastro_de_remedios ():\n",
        "  remedio = input('qual nome do remedio (ex:paracetamol )')\n",
        "  dosagem = input('qual é a dosagem do remedio (ex:25 )')\n",
        "\n",
        "  remedios = {\n",
        "  'nome' : remedio,\n",
        "  'dosagem' : dosagem\n",
        "\n",
        "  }\n",
        "  # Assuming 'nome' is defined elsewhere or should be 'remedio'\n",
        "  print(f\"✅ Remédio '{remedio}' cadastrado com sucesso!\\n\")\n",
        "\n",
        "\n",
        "#lista de remedios\n",
        "def listar_remedios ():\n",
        "  # Assuming 'remedios' is accessible here (e.g., a global variable or passed as argument)\n",
        "  if not remedios:\n",
        "   print(\"/n Error nenhum remedio foi cadastrado \\n \")\n",
        "   return\n",
        "  print(\"/n Tal remedio foi cadastrado \\n \")\n",
        "\n",
        "def estoque ():\n",
        "   estoque = int(input('quantos remedios tem no estoque? (ex: 10 remedios )'))\n",
        "   # The for loop needs a body. Added a placeholder 'pass'\n",
        "   for i in range(10):\n",
        "       pass # Add code here to process the inventory."
      ]
    },
    {
      "cell_type": "code",
      "source": [
        "def cadastro_de_remedios ():\n",
        "  remedio = input('qual nome do remedio (ex:paracetamol )')\n",
        "  dosagem = input('qual é a dosagem do remedio (ex:25 )')\n",
        "\n",
        "  remedios = {\n",
        "  'nome' : remedio,\n",
        "  'dosagem' : dosagem\n",
        "\n",
        "  }\n",
        "\n",
        "  print(f\"✅ Remédio '{nome}' cadastrado com sucesso!\\n\")\n",
        "\n",
        "\n",
        "#lista de remedios\n",
        "  def listar_remedios ():\n",
        "    if not remedios:\n",
        "     print(\"/n Error nenhum remedio foi cadastrado \\n \")\n",
        "    return\n",
        "    print(\"/n Tal remedio foi cadastrado \\n \")"
      ],
      "metadata": {
        "id": "ilncWSz9AmUX"
      },
      "execution_count": null,
      "outputs": []
    },
    {
      "cell_type": "code",
      "source": [
        "def cadastro_de_remedios ():\n",
        "  remedio = input('qual nome do remedio (ex:paracetamol )')\n",
        "  dosagem = input('qual é a dosagem do remedio (ex:25 )')\n",
        "\n",
        "  remedios = {\n",
        "  'nome' : remedio,\n",
        "  'dosagem' : dosagem\n",
        "\n",
        "  }\n",
        "\n",
        "  print(f\"✅ Remédio '{nome}' cadastrado com sucesso!\\n\")"
      ],
      "metadata": {
        "id": "11b5oYokAfqX"
      },
      "execution_count": null,
      "outputs": []
    }
  ]
}